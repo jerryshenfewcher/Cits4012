{
  "nbformat": 4,
  "nbformat_minor": 0,
  "metadata": {
    "colab": {
      "provenance": [],
      "include_colab_link": true
    },
    "kernelspec": {
      "name": "python3",
      "display_name": "Python 3"
    },
    "language_info": {
      "name": "python"
    }
  },
  "cells": [
    {
      "cell_type": "markdown",
      "metadata": {
        "id": "view-in-github",
        "colab_type": "text"
      },
      "source": [
        "<a href=\"https://colab.research.google.com/github/jerryshenfewcher/Cits4012/blob/main/ABSA.ipynb\" target=\"_parent\"><img src=\"https://colab.research.google.com/assets/colab-badge.svg\" alt=\"Open In Colab\"/></a>"
      ]
    },
    {
      "cell_type": "code",
      "execution_count": null,
      "metadata": {
        "id": "U7_vTUz8wQdY"
      },
      "outputs": [],
      "source": []
    },
    {
      "cell_type": "markdown",
      "source": [
        "Abstract"
      ],
      "metadata": {
        "id": "uxgEEe2dz-Bz"
      }
    },
    {
      "cell_type": "code",
      "source": [],
      "metadata": {
        "id": "vTVQmPhbz-VR"
      },
      "execution_count": null,
      "outputs": []
    },
    {
      "cell_type": "markdown",
      "source": [
        " Introduction"
      ],
      "metadata": {
        "id": "Oj6GrjR_05ip"
      }
    },
    {
      "cell_type": "code",
      "source": [],
      "metadata": {
        "id": "epqDxc4W0_6y"
      },
      "execution_count": null,
      "outputs": []
    },
    {
      "cell_type": "markdown",
      "source": [
        "Methods"
      ],
      "metadata": {
        "id": "eooBYDzn1AU-"
      }
    },
    {
      "cell_type": "code",
      "source": [],
      "metadata": {
        "id": "yojPAu7D1DA-"
      },
      "execution_count": null,
      "outputs": []
    },
    {
      "cell_type": "markdown",
      "source": [
        " Experiments"
      ],
      "metadata": {
        "id": "6Y4CIFgs1Dno"
      }
    },
    {
      "cell_type": "code",
      "source": [],
      "metadata": {
        "id": "UfGbu91s1OVV"
      },
      "execution_count": null,
      "outputs": []
    },
    {
      "cell_type": "markdown",
      "source": [
        "Results"
      ],
      "metadata": {
        "id": "waalqzZy1PAS"
      }
    },
    {
      "cell_type": "markdown",
      "source": [
        "Conclusion"
      ],
      "metadata": {
        "id": "LiFk_MI81TLK"
      }
    }
  ]
}