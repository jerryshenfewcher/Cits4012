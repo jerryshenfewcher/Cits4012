{
  "nbformat": 4,
  "nbformat_minor": 0,
  "metadata": {
    "colab": {
      "provenance": [],
      "include_colab_link": true
    },
    "kernelspec": {
      "name": "python3",
      "display_name": "Python 3"
    },
    "language_info": {
      "name": "python"
    }
  },
  "cells": [
    {
      "cell_type": "markdown",
      "metadata": {
        "id": "view-in-github",
        "colab_type": "text"
      },
      "source": [
        "<a href=\"https://colab.research.google.com/github/jerryshenfewcher/Cits4012/blob/main/ABSA.ipynb\" target=\"_parent\"><img src=\"https://colab.research.google.com/assets/colab-badge.svg\" alt=\"Open In Colab\"/></a>"
      ]
    },
    {
      "cell_type": "code",
      "execution_count": null,
      "metadata": {
        "id": "U7_vTUz8wQdY"
      },
      "outputs": [],
      "source": []
    },
    {
      "cell_type": "markdown",
      "source": [
        "Abstract"
      ],
      "metadata": {
        "id": "uxgEEe2dz-Bz"
      }
    },
    {
      "cell_type": "markdown",
      "source": [],
      "metadata": {
        "id": "jr1Qmj3W2qqw"
      }
    },
    {
      "cell_type": "markdown",
      "source": [
        "Import data from Google Drive"
      ],
      "metadata": {
        "id": "eZFHUFI42rkM"
      }
    },
    {
      "cell_type": "code",
      "source": [
        "from google.colab import drive\n",
        "drive.mount('/content/drive')"
      ],
      "metadata": {
        "id": "vTVQmPhbz-VR",
        "colab": {
          "base_uri": "https://localhost:8080/"
        },
        "outputId": "3d92df3f-beac-46b0-ab74-4afca4c3c56c"
      },
      "execution_count": 1,
      "outputs": [
        {
          "output_type": "stream",
          "name": "stdout",
          "text": [
            "Mounted at /content/drive\n"
          ]
        }
      ]
    },
    {
      "cell_type": "code",
      "source": [
        "import json\n",
        "import pandas as pd\n",
        "\n",
        "path = '/content/drive/My Drive/ABSA/'\n",
        "filenames = ['test.json', 'train.json', 'val.json']\n",
        "\n",
        "# 读取JSON文件并转换为pandas DataFrame\n",
        "datasets = {}\n",
        "for filename in filenames:\n",
        "    full_path = path + filename\n",
        "    with open(full_path, 'r') as file:\n",
        "        data = json.load(file)\n",
        "        df = pd.json_normalize(data)  # 可以根据你的文件结构调整这里的代码\n",
        "        datasets[filename.split('.')[0]] = df\n",
        "\n",
        "# 现在 dataframes 列表中包含了三个DataFrame，分别对应三个JSON文件\n",
        "\n",
        "for name, df in datasets.items():\n",
        "  print(f\"Dataset: {name}\")\n",
        "  print(df.info())\n",
        "  print(df.head())"
      ],
      "metadata": {
        "colab": {
          "base_uri": "https://localhost:8080/"
        },
        "id": "kP7kzxSk4-Vw",
        "outputId": "5c34024b-8ea7-4a54-abb2-87e2db6196d6"
      },
      "execution_count": 5,
      "outputs": [
        {
          "output_type": "stream",
          "name": "stdout",
          "text": [
            "Dataset: test\n",
            "<class 'pandas.core.frame.DataFrame'>\n",
            "RangeIndex: 1 entries, 0 to 0\n",
            "Data columns (total 3 columns):\n",
            " #   Column   Non-Null Count  Dtype \n",
            "---  ------   --------------  ----- \n",
            " 0   columns  1 non-null      object\n",
            " 1   index    1 non-null      object\n",
            " 2   data     1 non-null      object\n",
            "dtypes: object(3)\n",
            "memory usage: 152.0+ bytes\n",
            "None\n",
            "                        columns  \\\n",
            "0  [sentence, aspect, polarity]   \n",
            "\n",
            "                                               index  \\\n",
            "0  [0, 1, 2, 3, 4, 5, 6, 7, 8, 9, 10, 11, 12, 13,...   \n",
            "\n",
            "                                                data  \n",
            "0  [[We went again and sat at the bar this time, ...  \n",
            "Dataset: train\n",
            "<class 'pandas.core.frame.DataFrame'>\n",
            "RangeIndex: 1 entries, 0 to 0\n",
            "Data columns (total 3 columns):\n",
            " #   Column   Non-Null Count  Dtype \n",
            "---  ------   --------------  ----- \n",
            " 0   columns  1 non-null      object\n",
            " 1   index    1 non-null      object\n",
            " 2   data     1 non-null      object\n",
            "dtypes: object(3)\n",
            "memory usage: 152.0+ bytes\n",
            "None\n",
            "                        columns  \\\n",
            "0  [sentence, aspect, polarity]   \n",
            "\n",
            "                                               index  \\\n",
            "0  [0, 1, 2, 3, 4, 5, 6, 7, 8, 9, 10, 11, 12, 13,...   \n",
            "\n",
            "                                                data  \n",
            "0  [[It might be the best sit down food I've had ...  \n",
            "Dataset: val\n",
            "<class 'pandas.core.frame.DataFrame'>\n",
            "RangeIndex: 1 entries, 0 to 0\n",
            "Data columns (total 3 columns):\n",
            " #   Column   Non-Null Count  Dtype \n",
            "---  ------   --------------  ----- \n",
            " 0   columns  1 non-null      object\n",
            " 1   index    1 non-null      object\n",
            " 2   data     1 non-null      object\n",
            "dtypes: object(3)\n",
            "memory usage: 152.0+ bytes\n",
            "None\n",
            "                        columns  \\\n",
            "0  [sentence, aspect, polarity]   \n",
            "\n",
            "                                               index  \\\n",
            "0  [0, 1, 2, 3, 4, 5, 6, 7, 8, 9, 10, 11, 12, 13,...   \n",
            "\n",
            "                                                data  \n",
            "0  [[I would wait for a table next time, the food...  \n"
          ]
        }
      ]
    },
    {
      "cell_type": "markdown",
      "source": [
        " Introduction"
      ],
      "metadata": {
        "id": "Oj6GrjR_05ip"
      }
    },
    {
      "cell_type": "code",
      "source": [],
      "metadata": {
        "id": "epqDxc4W0_6y"
      },
      "execution_count": null,
      "outputs": []
    },
    {
      "cell_type": "markdown",
      "source": [
        "Methods"
      ],
      "metadata": {
        "id": "eooBYDzn1AU-"
      }
    },
    {
      "cell_type": "code",
      "source": [],
      "metadata": {
        "id": "yojPAu7D1DA-"
      },
      "execution_count": null,
      "outputs": []
    },
    {
      "cell_type": "markdown",
      "source": [
        " Experiments"
      ],
      "metadata": {
        "id": "6Y4CIFgs1Dno"
      }
    },
    {
      "cell_type": "code",
      "source": [],
      "metadata": {
        "id": "UfGbu91s1OVV"
      },
      "execution_count": null,
      "outputs": []
    },
    {
      "cell_type": "markdown",
      "source": [
        "Results"
      ],
      "metadata": {
        "id": "waalqzZy1PAS"
      }
    },
    {
      "cell_type": "markdown",
      "source": [
        "Conclusion"
      ],
      "metadata": {
        "id": "LiFk_MI81TLK"
      }
    }
  ]
}