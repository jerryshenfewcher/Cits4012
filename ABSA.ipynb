{
  "nbformat": 4,
  "nbformat_minor": 0,
  "metadata": {
    "colab": {
      "provenance": [],
      "include_colab_link": true
    },
    "kernelspec": {
      "name": "python3",
      "display_name": "Python 3"
    },
    "language_info": {
      "name": "python"
    }
  },
  "cells": [
    {
      "cell_type": "markdown",
      "metadata": {
        "id": "view-in-github",
        "colab_type": "text"
      },
      "source": [
        "<a href=\"https://colab.research.google.com/github/jerryshenfewcher/Cits4012/blob/main/ABSA.ipynb\" target=\"_parent\"><img src=\"https://colab.research.google.com/assets/colab-badge.svg\" alt=\"Open In Colab\"/></a>"
      ]
    },
    {
      "cell_type": "code",
      "execution_count": null,
      "metadata": {
        "id": "U7_vTUz8wQdY"
      },
      "outputs": [],
      "source": []
    },
    {
      "cell_type": "code",
      "source": [],
      "metadata": {
        "id": "XPRPdp6_4iwD"
      },
      "execution_count": null,
      "outputs": []
    },
    {
      "cell_type": "markdown",
      "source": [],
      "metadata": {
        "id": "IaunCjyf4jfA"
      }
    },
    {
      "cell_type": "code",
      "source": [
        "from google.colab import drive\n",
        "drive.mount('/content/drive')\n"
      ],
      "metadata": {
        "id": "vTVQmPhbz-VR"
      },
      "execution_count": null,
      "outputs": []
    },
    {
      "cell_type": "code",
      "source": [
        "import torch\n",
        "import torch.nn as nn\n",
        "import torch.optim as optim\n",
        "from torch.utils.data import DataLoader, Dataset\n",
        "import json\n",
        "import numpy as np\n",
        "from collections import Counter\n",
        "from sklearn.model_selection import train_test_split\n"
      ],
      "metadata": {
        "id": "De4rtUPK3UDm"
      },
      "execution_count": null,
      "outputs": []
    },
    {
      "cell_type": "markdown",
      "source": [
        "2. 数据预处理"
      ],
      "metadata": {
        "id": "0B7cPEJ24f0J"
      }
    },
    {
      "cell_type": "code",
      "source": [
        "class AspectDataset(Dataset):\n",
        "    def __init__(self, data):\n",
        "        self.data = data\n",
        "\n",
        "    def __len__(self):\n",
        "        return len(self.data)\n",
        "\n",
        "    def __getitem__(self, index):\n",
        "        return self.data[index]\n",
        "\n",
        "def load_data(filepath):\n",
        "    with open(filepath, 'r') as file:\n",
        "        data = json.load(file)\n",
        "    return data\n",
        "\n",
        "def preprocess_data(data):\n",
        "    texts = [d['text'] for d in data]\n",
        "    aspects = [d['aspect'] for d in data]\n",
        "    sentiments = [d['sentiment'] for d in data]\n",
        "    return texts, aspects, sentiments\n"
      ],
      "metadata": {
        "id": "epqDxc4W0_6y"
      },
      "execution_count": null,
      "outputs": []
    },
    {
      "cell_type": "markdown",
      "source": [
        "3. 建立模型"
      ],
      "metadata": {
        "id": "beehvS0Q4pc4"
      }
    },
    {
      "cell_type": "code",
      "source": [
        "class GRUModel(nn.Module):\n",
        "    def __init__(self, vocab_size, embedding_dim, hidden_dim, output_dim):\n",
        "        super(GRUModel, self).__init__()\n",
        "        self.embedding = nn.Embedding(vocab_size, embedding_dim)\n",
        "        self.gru = nn.GRU(embedding_dim, hidden_dim, batch_first=True)\n",
        "        self.fc = nn.Linear(hidden_dim, output_dim)\n",
        "\n",
        "    def forward(self, text, text_lengths):\n",
        "        embedded = self.embedding(text)\n",
        "        packed_embedded = nn.utils.rnn.pack_padded_sequence(embedded, text_lengths, batch_first=True)\n",
        "        packed_output, hidden = self.gru(packed_embedded)\n",
        "        output, output_lengths = nn.utils.rnn.pad_packed_sequence(packed_output, batch_first=True)\n",
        "        hidden = hidden.squeeze(0)\n",
        "        out = self.fc(hidden)\n",
        "        return out\n"
      ],
      "metadata": {
        "id": "yojPAu7D1DA-"
      },
      "execution_count": null,
      "outputs": []
    },
    {
      "cell_type": "markdown",
      "source": [
        "4. 训练模型"
      ],
      "metadata": {
        "id": "eQvMliU64rch"
      }
    },
    {
      "cell_type": "code",
      "source": [
        "def train_model(model, train_loader, optimizer, criterion):\n",
        "    model.train()\n",
        "    total_loss = 0\n",
        "    for texts, aspects, sentiments in train_loader:\n",
        "        optimizer.zero_grad()\n",
        "        outputs = model(texts, aspects)  # 假设已有方法处理输入\n",
        "        loss = criterion(outputs, sentiments)\n",
        "        loss.backward()\n",
        "        optimizer.step()\n",
        "        total_loss += loss.item()\n",
        "    return total_loss / len(train_loader)\n"
      ],
      "metadata": {
        "id": "UfGbu91s1OVV"
      },
      "execution_count": null,
      "outputs": []
    },
    {
      "cell_type": "markdown",
      "source": [
        "5. 主函数"
      ],
      "metadata": {
        "id": "DD2AEVGf41J2"
      }
    },
    {
      "cell_type": "code",
      "source": [
        "def main():\n",
        "    # 加载和预处理数据\n",
        "    data = load_data('train.json')\n",
        "    texts, aspects, sentiments = preprocess_data(data)\n",
        "\n",
        "    # 假设已有一些方法来转换文本到索引等\n",
        "    # 创建数据集和数据加载器\n",
        "    dataset = AspectDataset(list(zip(texts, aspects, sentiments)))\n",
        "    train_loader = DataLoader(dataset, batch_size=32, shuffle=True)\n",
        "\n",
        "    # 实例化模型、优化器和损失函数\n",
        "    vocab_size = 10000  # 假设词汇表大小\n",
        "    embedding_dim = 100\n",
        "    hidden_dim = 256\n",
        "    output_dim = 3  # 三种情感极性\n",
        "    model = GRUModel(vocab_size, embedding_dim, hidden_dim, output_dim)\n",
        "    optimizer = optim.Adam(model.parameters(), lr=0.001)\n",
        "    criterion = nn.CrossEntropyLoss()\n",
        "\n",
        "    # 训练模型\n",
        "    loss = train_model(model, train_loader, optimizer, criterion)\n",
        "    print(f'Training loss: {loss}')\n",
        "\n",
        "if __name__ == '__main__':\n",
        "    main()\n"
      ],
      "metadata": {
        "id": "5h3VsSKZ42M-"
      },
      "execution_count": null,
      "outputs": []
    }
  ]
}