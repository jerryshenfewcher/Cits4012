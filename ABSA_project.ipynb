{
  "nbformat": 4,
  "nbformat_minor": 0,
  "metadata": {
    "colab": {
      "provenance": [],
      "include_colab_link": true
    },
    "kernelspec": {
      "name": "python3",
      "display_name": "Python 3"
    },
    "language_info": {
      "name": "python"
    }
  },
  "cells": [
    {
      "cell_type": "markdown",
      "metadata": {
        "id": "view-in-github",
        "colab_type": "text"
      },
      "source": [
        "<a href=\"https://colab.research.google.com/github/jerryshenfewcher/Cits4012/blob/main/ABSA_project.ipynb\" target=\"_parent\"><img src=\"https://colab.research.google.com/assets/colab-badge.svg\" alt=\"Open In Colab\"/></a>"
      ]
    },
    {
      "cell_type": "code",
      "execution_count": null,
      "metadata": {
        "id": "U7_vTUz8wQdY"
      },
      "outputs": [],
      "source": []
    },
    {
      "cell_type": "markdown",
      "source": [
        "Abstract"
      ],
      "metadata": {
        "id": "uxgEEe2dz-Bz"
      }
    },
    {
      "cell_type": "markdown",
      "source": [],
      "metadata": {
        "id": "jr1Qmj3W2qqw"
      }
    },
    {
      "cell_type": "markdown",
      "source": [
        "Import data from Google Drive"
      ],
      "metadata": {
        "id": "eZFHUFI42rkM"
      }
    },
    {
      "cell_type": "code",
      "source": [
        "from google.colab import drive\n",
        "drive.mount('/content/drive')"
      ],
      "metadata": {
        "id": "vTVQmPhbz-VR",
        "colab": {
          "base_uri": "https://localhost:8080/"
        },
        "outputId": "3d92df3f-beac-46b0-ab74-4afca4c3c56c"
      },
      "execution_count": 1,
      "outputs": [
        {
          "output_type": "stream",
          "name": "stdout",
          "text": [
            "Mounted at /content/drive\n"
          ]
        }
      ]
    },
    {
      "cell_type": "code",
      "source": [
        "# Download from Github\n",
        "\n",
        "!wget https://raw.githubusercontent.com/jerryshenfewcher/Cits4012/main/test.json\n",
        "!wget https://raw.githubusercontent.com/jerryshenfewcher/Cits4012/main/train.json\n",
        "!wget https://raw.githubusercontent.com/jerryshenfewcher/Cits4012/main/val.json\n",
        "\n",
        "!ls"
      ],
      "metadata": {
        "colab": {
          "base_uri": "https://localhost:8080/"
        },
        "id": "kP7kzxSk4-Vw",
        "outputId": "8d35fe7a-cfcd-418f-ffa6-2234a8c32ad8"
      },
      "execution_count": 10,
      "outputs": [
        {
          "output_type": "stream",
          "name": "stdout",
          "text": [
            "--2024-04-24 12:04:44--  https://raw.githubusercontent.com/jerryshenfewcher/Cits4012/main/test.json\n",
            "Resolving raw.githubusercontent.com (raw.githubusercontent.com)... 185.199.108.133, 185.199.109.133, 185.199.110.133, ...\n",
            "Connecting to raw.githubusercontent.com (raw.githubusercontent.com)|185.199.108.133|:443... connected.\n",
            "HTTP request sent, awaiting response... 200 OK\n",
            "Length: 141274 (138K) [text/plain]\n",
            "Saving to: ‘test.json.3’\n",
            "\n",
            "\rtest.json.3           0%[                    ]       0  --.-KB/s               \rtest.json.3         100%[===================>] 137.96K  --.-KB/s    in 0.02s   \n",
            "\n",
            "2024-04-24 12:04:44 (5.92 MB/s) - ‘test.json.3’ saved [141274/141274]\n",
            "\n",
            "--2024-04-24 12:04:44--  https://raw.githubusercontent.com/jerryshenfewcher/Cits4012/main/train.json\n",
            "Resolving raw.githubusercontent.com (raw.githubusercontent.com)... 185.199.108.133, 185.199.109.133, 185.199.110.133, ...\n",
            "Connecting to raw.githubusercontent.com (raw.githubusercontent.com)|185.199.108.133|:443... connected.\n",
            "HTTP request sent, awaiting response... 200 OK\n",
            "Length: 1136800 (1.1M) [text/plain]\n",
            "Saving to: ‘train.json.1’\n",
            "\n",
            "train.json.1        100%[===================>]   1.08M  --.-KB/s    in 0.05s   \n",
            "\n",
            "2024-04-24 12:04:44 (19.9 MB/s) - ‘train.json.1’ saved [1136800/1136800]\n",
            "\n",
            "--2024-04-24 12:04:44--  https://raw.githubusercontent.com/jerryshenfewcher/Cits4012/main/val.json\n",
            "Resolving raw.githubusercontent.com (raw.githubusercontent.com)... 185.199.111.133, 185.199.110.133, 185.199.108.133, ...\n",
            "Connecting to raw.githubusercontent.com (raw.githubusercontent.com)|185.199.111.133|:443... connected.\n",
            "HTTP request sent, awaiting response... 200 OK\n",
            "Length: 138426 (135K) [text/plain]\n",
            "Saving to: ‘val.json.1’\n",
            "\n",
            "val.json.1          100%[===================>] 135.18K  --.-KB/s    in 0.02s   \n",
            "\n",
            "2024-04-24 12:04:44 (5.66 MB/s) - ‘val.json.1’ saved [138426/138426]\n",
            "\n",
            "drive\t     test.json\t  test.json.2  train.json    val.json\n",
            "sample_data  test.json.1  test.json.3  train.json.1  val.json.1\n"
          ]
        }
      ]
    },
    {
      "cell_type": "code",
      "source": [
        "import json\n",
        "import pandas as pd\n",
        "\n",
        "# 文件列表\n",
        "files = ['test.json', 'train.json', 'val.json']\n",
        "\n",
        "# 创建一个字典来存储DataFrames，键为文件名的前缀\n",
        "dataframes = {}\n",
        "\n",
        "# 遍历文件列表，加载每个文件，并转换为DataFrame\n",
        "for file in files:\n",
        "    with open(file, 'r') as f:\n",
        "        data = json.load(f)\n",
        "        df = pd.json_normalize(data)\n",
        "        dataframes[file.split('.')[0]] = df  # 使用文件名的前缀作为键\n",
        "\n",
        "# 查看每个DataFrame的信息\n",
        "for name, df in dataframes.items():\n",
        "    print(f\"Dataset: {name}, First 5 rows:\")\n",
        "    print(df.head())"
      ],
      "metadata": {
        "colab": {
          "base_uri": "https://localhost:8080/"
        },
        "id": "ZInIVdRb_bft",
        "outputId": "c2fca648-01b1-4b41-cf09-a4bd4addb4ca"
      },
      "execution_count": 11,
      "outputs": [
        {
          "output_type": "stream",
          "name": "stdout",
          "text": [
            "Dataset: test, First 5 rows:\n",
            "                        columns  \\\n",
            "0  [sentence, aspect, polarity]   \n",
            "\n",
            "                                               index  \\\n",
            "0  [0, 1, 2, 3, 4, 5, 6, 7, 8, 9, 10, 11, 12, 13,...   \n",
            "\n",
            "                                                data  \n",
            "0  [[We went again and sat at the bar this time, ...  \n",
            "Dataset: train, First 5 rows:\n",
            "                        columns  \\\n",
            "0  [sentence, aspect, polarity]   \n",
            "\n",
            "                                               index  \\\n",
            "0  [0, 1, 2, 3, 4, 5, 6, 7, 8, 9, 10, 11, 12, 13,...   \n",
            "\n",
            "                                                data  \n",
            "0  [[It might be the best sit down food I've had ...  \n",
            "Dataset: val, First 5 rows:\n",
            "                        columns  \\\n",
            "0  [sentence, aspect, polarity]   \n",
            "\n",
            "                                               index  \\\n",
            "0  [0, 1, 2, 3, 4, 5, 6, 7, 8, 9, 10, 11, 12, 13,...   \n",
            "\n",
            "                                                data  \n",
            "0  [[I would wait for a table next time, the food...  \n"
          ]
        }
      ]
    },
    {
      "cell_type": "markdown",
      "source": [
        " Introduction"
      ],
      "metadata": {
        "id": "Oj6GrjR_05ip"
      }
    },
    {
      "cell_type": "code",
      "source": [],
      "metadata": {
        "id": "epqDxc4W0_6y"
      },
      "execution_count": null,
      "outputs": []
    },
    {
      "cell_type": "markdown",
      "source": [
        "Methods"
      ],
      "metadata": {
        "id": "eooBYDzn1AU-"
      }
    },
    {
      "cell_type": "code",
      "source": [],
      "metadata": {
        "id": "yojPAu7D1DA-"
      },
      "execution_count": null,
      "outputs": []
    },
    {
      "cell_type": "markdown",
      "source": [
        " Experiments"
      ],
      "metadata": {
        "id": "6Y4CIFgs1Dno"
      }
    },
    {
      "cell_type": "code",
      "source": [],
      "metadata": {
        "id": "UfGbu91s1OVV"
      },
      "execution_count": null,
      "outputs": []
    },
    {
      "cell_type": "markdown",
      "source": [
        "Results"
      ],
      "metadata": {
        "id": "waalqzZy1PAS"
      }
    },
    {
      "cell_type": "markdown",
      "source": [
        "Conclusion"
      ],
      "metadata": {
        "id": "LiFk_MI81TLK"
      }
    }
  ]
}