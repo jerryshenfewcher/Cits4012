{
  "cells": [
    {
      "cell_type": "markdown",
      "metadata": {
        "id": "view-in-github",
        "colab_type": "text"
      },
      "source": [
        "<a href=\"https://colab.research.google.com/github/jerryshenfewcher/Cits4012/blob/main/ABSA_project.ipynb\" target=\"_parent\"><img src=\"https://colab.research.google.com/assets/colab-badge.svg\" alt=\"Open In Colab\"/></a>"
      ]
    },
    {
      "cell_type": "code",
      "execution_count": null,
      "metadata": {
        "id": "U7_vTUz8wQdY"
      },
      "outputs": [],
      "source": []
    },
    {
      "cell_type": "markdown",
      "metadata": {
        "id": "uxgEEe2dz-Bz"
      },
      "source": [
        "Abstract"
      ]
    },
    {
      "cell_type": "markdown",
      "metadata": {
        "id": "jr1Qmj3W2qqw"
      },
      "source": []
    },
    {
      "cell_type": "markdown",
      "metadata": {
        "id": "eZFHUFI42rkM"
      },
      "source": [
        "Import data from Google Drive"
      ]
    },
    {
      "cell_type": "code",
      "execution_count": null,
      "metadata": {
        "colab": {
          "background_save": true,
          "base_uri": "https://localhost:8080/"
        },
        "id": "kP7kzxSk4-Vw",
        "outputId": "085318be-98d2-42bb-8fe7-a7670288eec7"
      },
      "outputs": [
        {
          "name": "stdout",
          "output_type": "stream",
          "text": [
            "--2024-04-26 08:34:40--  https://raw.githubusercontent.com/jerryshenfewcher/Cits4012/main/test.json\n",
            "Resolving raw.githubusercontent.com (raw.githubusercontent.com)... 185.199.109.133, 185.199.111.133, 185.199.110.133, ...\n",
            "Connecting to raw.githubusercontent.com (raw.githubusercontent.com)|185.199.109.133|:443... connected.\n",
            "HTTP request sent, awaiting response... 200 OK\n",
            "Length: 141274 (138K) [text/plain]\n",
            "Saving to: ‘test.json’\n",
            "\n",
            "test.json           100%[===================>] 137.96K  --.-KB/s    in 0.004s  \n",
            "\n",
            "2024-04-26 08:34:40 (30.3 MB/s) - ‘test.json’ saved [141274/141274]\n",
            "\n",
            "--2024-04-26 08:34:40--  https://raw.githubusercontent.com/jerryshenfewcher/Cits4012/main/train.json\n",
            "Resolving raw.githubusercontent.com (raw.githubusercontent.com)... 185.199.108.133, 185.199.109.133, 185.199.110.133, ...\n",
            "Connecting to raw.githubusercontent.com (raw.githubusercontent.com)|185.199.108.133|:443... connected.\n",
            "HTTP request sent, awaiting response... 200 OK\n",
            "Length: 1136800 (1.1M) [text/plain]\n",
            "Saving to: ‘train.json’\n",
            "\n",
            "train.json          100%[===================>]   1.08M  --.-KB/s    in 0.01s   \n",
            "\n",
            "2024-04-26 08:34:40 (109 MB/s) - ‘train.json’ saved [1136800/1136800]\n",
            "\n",
            "--2024-04-26 08:34:40--  https://raw.githubusercontent.com/jerryshenfewcher/Cits4012/main/val.json\n",
            "Resolving raw.githubusercontent.com (raw.githubusercontent.com)... 185.199.108.133, 185.199.109.133, 185.199.110.133, ...\n",
            "Connecting to raw.githubusercontent.com (raw.githubusercontent.com)|185.199.108.133|:443... connected.\n",
            "HTTP request sent, awaiting response... 200 OK\n",
            "Length: 138426 (135K) [text/plain]\n",
            "Saving to: ‘val.json’\n",
            "\n",
            "val.json            100%[===================>] 135.18K  --.-KB/s    in 0.004s  \n",
            "\n",
            "2024-04-26 08:34:40 (32.5 MB/s) - ‘val.json’ saved [138426/138426]\n",
            "\n",
            "sample_data  test.json\ttrain.json  val.json\n"
          ]
        }
      ],
      "source": [
        "# Download from Github\n",
        "\n",
        "!wget https://raw.githubusercontent.com/jerryshenfewcher/Cits4012/main/test.json\n",
        "!wget https://raw.githubusercontent.com/jerryshenfewcher/Cits4012/main/train.json\n",
        "!wget https://raw.githubusercontent.com/jerryshenfewcher/Cits4012/main/val.json\n",
        "\n",
        "!ls"
      ]
    },
    {
      "cell_type": "code",
      "execution_count": null,
      "metadata": {
        "colab": {
          "base_uri": "https://localhost:8080/",
          "height": 221
        },
        "id": "ZInIVdRb_bft",
        "outputId": "0ffec19e-3711-4b0d-86dc-d2e32d10ca94"
      },
      "outputs": [
        {
          "ename": "FileNotFoundError",
          "evalue": "[Errno 2] No such file or directory: 'test.json'",
          "output_type": "error",
          "traceback": [
            "\u001b[0;31m---------------------------------------------------------------------------\u001b[0m",
            "\u001b[0;31mFileNotFoundError\u001b[0m                         Traceback (most recent call last)",
            "\u001b[0;32m<ipython-input-4-98685be8e391>\u001b[0m in \u001b[0;36m<cell line: 11>\u001b[0;34m()\u001b[0m\n\u001b[1;32m     10\u001b[0m \u001b[0;31m# 遍历文件列表，加载每个文件，并转换为DataFrame\u001b[0m\u001b[0;34m\u001b[0m\u001b[0;34m\u001b[0m\u001b[0m\n\u001b[1;32m     11\u001b[0m \u001b[0;32mfor\u001b[0m \u001b[0mfile\u001b[0m \u001b[0;32min\u001b[0m \u001b[0mfiles\u001b[0m\u001b[0;34m:\u001b[0m\u001b[0;34m\u001b[0m\u001b[0;34m\u001b[0m\u001b[0m\n\u001b[0;32m---> 12\u001b[0;31m     \u001b[0;32mwith\u001b[0m \u001b[0mopen\u001b[0m\u001b[0;34m(\u001b[0m\u001b[0mfile\u001b[0m\u001b[0;34m,\u001b[0m \u001b[0;34m'r'\u001b[0m\u001b[0;34m)\u001b[0m \u001b[0;32mas\u001b[0m \u001b[0mf\u001b[0m\u001b[0;34m:\u001b[0m\u001b[0;34m\u001b[0m\u001b[0;34m\u001b[0m\u001b[0m\n\u001b[0m\u001b[1;32m     13\u001b[0m         \u001b[0mdata\u001b[0m \u001b[0;34m=\u001b[0m \u001b[0mjson\u001b[0m\u001b[0;34m.\u001b[0m\u001b[0mload\u001b[0m\u001b[0;34m(\u001b[0m\u001b[0mf\u001b[0m\u001b[0;34m)\u001b[0m\u001b[0;34m\u001b[0m\u001b[0;34m\u001b[0m\u001b[0m\n\u001b[1;32m     14\u001b[0m         \u001b[0mdf\u001b[0m \u001b[0;34m=\u001b[0m \u001b[0mpd\u001b[0m\u001b[0;34m.\u001b[0m\u001b[0mjson_normalize\u001b[0m\u001b[0;34m(\u001b[0m\u001b[0mdata\u001b[0m\u001b[0;34m)\u001b[0m\u001b[0;34m\u001b[0m\u001b[0;34m\u001b[0m\u001b[0m\n",
            "\u001b[0;31mFileNotFoundError\u001b[0m: [Errno 2] No such file or directory: 'test.json'"
          ]
        }
      ],
      "source": [
        "import json\n",
        "import pandas as pd\n",
        "\n",
        "# 文件列表\n",
        "files = ['test.json', 'train.json', 'val.json']\n",
        "\n",
        "# 创建一个字典来存储DataFrames，键为文件名的前缀\n",
        "dataframes = {}\n",
        "\n",
        "# 遍历文件列表，加载每个文件，并转换为DataFrame\n",
        "for file in files:\n",
        "    with open(file, 'r') as f:\n",
        "        data = json.load(f)\n",
        "        df = pd.json_normalize(data)\n",
        "        dataframes[file.split('.')[0]] = df  # 使用文件名的前缀作为键\n",
        "\n",
        "# 查看每个DataFrame的信息\n",
        "for name, df in dataframes.items():\n",
        "    print(f\"Dataset: {name}, First 5 rows:\")\n",
        "    print(df.head())"
      ]
    },
    {
      "cell_type": "markdown",
      "metadata": {
        "id": "Oj6GrjR_05ip"
      },
      "source": [
        " Introduction"
      ]
    },
    {
      "cell_type": "code",
      "execution_count": null,
      "metadata": {
        "id": "epqDxc4W0_6y"
      },
      "outputs": [],
      "source": []
    },
    {
      "cell_type": "markdown",
      "metadata": {
        "id": "eooBYDzn1AU-"
      },
      "source": [
        "Methods"
      ]
    },
    {
      "cell_type": "code",
      "execution_count": null,
      "metadata": {
        "id": "yojPAu7D1DA-"
      },
      "outputs": [],
      "source": []
    },
    {
      "cell_type": "markdown",
      "metadata": {
        "id": "6Y4CIFgs1Dno"
      },
      "source": [
        " Experiments"
      ]
    },
    {
      "cell_type": "code",
      "execution_count": null,
      "metadata": {
        "id": "UfGbu91s1OVV"
      },
      "outputs": [],
      "source": []
    },
    {
      "cell_type": "markdown",
      "metadata": {
        "id": "waalqzZy1PAS"
      },
      "source": [
        "Results"
      ]
    },
    {
      "cell_type": "markdown",
      "metadata": {
        "id": "LiFk_MI81TLK"
      },
      "source": [
        "Conclusion"
      ]
    }
  ],
  "metadata": {
    "colab": {
      "provenance": [],
      "include_colab_link": true
    },
    "kernelspec": {
      "display_name": "Python 3",
      "name": "python3"
    },
    "language_info": {
      "name": "python"
    }
  },
  "nbformat": 4,
  "nbformat_minor": 0
}